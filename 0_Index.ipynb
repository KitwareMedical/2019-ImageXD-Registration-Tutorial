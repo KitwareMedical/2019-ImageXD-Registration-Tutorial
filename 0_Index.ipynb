{
 "cells": [
  {
   "cell_type": "markdown",
   "metadata": {
    "slideshow": {
     "slide_type": "slide"
    }
   },
   "source": [
    "# Image Registration\n",
    "\n",
    "### ImageXD: Images Across Domains\n",
    "### Berkeley Institute for Data Science (BIDS)\n",
    "### September, 2019\n",
    "\n",
    "Instructors:\n",
    "\n",
    "- Maryana Alegro, UCSF\n",
    "- Matt McCormick, Kitware"
   ]
  },
  {
   "cell_type": "markdown",
   "metadata": {
    "slideshow": {
     "slide_type": "slide"
    }
   },
   "source": [
    "## Abstract\n",
    "\n",
    "In this course we provide an interactive guide to the fundamental concepts and practices involved in **2D and 3D scientific image registration**."
   ]
  },
  {
   "cell_type": "markdown",
   "metadata": {
    "slideshow": {
     "slide_type": "slide"
    }
   },
   "source": [
    "## Tutorials\n",
    "\n",
    "1. [Introduction to Image Registration](1_Introduction_to_Image_Registration.ipynb)\n",
    "2. [Physical Space and the Image Grid](2_Physical_Space_and_the_Image_Grid.ipynb)\n",
    "3. [Similarity Metrics and Optimization](3_Similarity_Metric_and_Optimization.ipynb)\n",
    "4. [Registration Framework Components](4_Registration_Framework_Components.ipynb)"
   ]
  }
 ],
 "metadata": {
  "celltoolbar": "Slideshow",
  "kernelspec": {
   "display_name": "Python 3",
   "language": "python",
   "name": "python3"
  },
  "language_info": {
   "codemirror_mode": {
    "name": "ipython",
    "version": 3
   },
   "file_extension": ".py",
   "mimetype": "text/x-python",
   "name": "python",
   "nbconvert_exporter": "python",
   "pygments_lexer": "ipython3",
   "version": "3.6.8"
  }
 },
 "nbformat": 4,
 "nbformat_minor": 1
}
