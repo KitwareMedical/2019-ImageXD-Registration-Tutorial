{
 "cells": [
  {
   "cell_type": "markdown",
   "metadata": {
    "slideshow": {
     "slide_type": "slide"
    }
   },
   "source": [
    "# Introduction to Image Registration"
   ]
  },
  {
   "cell_type": "markdown",
   "metadata": {
    "slideshow": {
     "slide_type": "subslide"
    }
   },
   "source": [
    "### Learning Objectives\n",
    "\n",
    "* Define the **registration problem**: **find the spatial transformation that aligns images in the presence of noise**\n",
    "* Understand how *insights* can be obtained from both **resampled images** and the **spatial transformation**\n",
    "* Understand how registration helps\n",
    "\n",
    "  * *Compare multiple modalities*\n",
    "  * Align multiple modalities for convolutional neural net **(CNN) segmentation**\n",
    "  * Track **changes over time**\n",
    "  * Place structures in a **common coordinate system**, e.g. an image atlas\n",
    "  * **Segment images** by registering to an **atlas**\n",
    "  * **Quantify** how structures **shrink** and **grow**"
   ]
  },
  {
   "cell_type": "markdown",
   "metadata": {
    "slideshow": {
     "slide_type": "slide"
    }
   },
   "source": [
    "## Overview\n",
    "\n",
    "[Introduction presentation](https://github.com/KitwareMedical/2019-ImageXD-Registration-Tutorial/raw/master/presentation/ImageXD19_registration_intro.pdf)"
   ]
  }
 ],
 "metadata": {
  "celltoolbar": "Slideshow",
  "kernelspec": {
   "display_name": "Python 3",
   "language": "python",
   "name": "python3"
  },
  "language_info": {
   "codemirror_mode": {
    "name": "ipython",
    "version": 3
   },
   "file_extension": ".py",
   "mimetype": "text/x-python",
   "name": "python",
   "nbconvert_exporter": "python",
   "pygments_lexer": "ipython3",
   "version": "3.6.8"
  }
 },
 "nbformat": 4,
 "nbformat_minor": 1
}
