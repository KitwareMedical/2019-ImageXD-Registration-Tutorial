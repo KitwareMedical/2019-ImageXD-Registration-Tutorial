{
 "cells": [
  {
   "cell_type": "markdown",
   "metadata": {
    "slideshow": {
     "slide_type": "slide"
    }
   },
   "source": [
    "# Physical Space and the Image Grid"
   ]
  },
  {
   "cell_type": "markdown",
   "metadata": {
    "slideshow": {
     "slide_type": "slide"
    }
   },
   "source": [
    "### Learning Objectives\n",
    "\n",
    "* Understand how an **image pixel grid** is defined in **physical space**\n",
    "* Understand how a **spatial transform** *defines the map between two physical spaces*\n",
    "* Understand **how to define a resampling operation** to generate a new image grid\n",
    "* Understand the **role of image interpolators**, and become familiar with a few common interpolators"
   ]
  },
  {
   "cell_type": "markdown",
   "metadata": {
    "slideshow": {
     "slide_type": "slide"
    }
   },
   "source": [
    "## Overview"
   ]
  },
  {
   "cell_type": "markdown",
   "metadata": {
    "slideshow": {
     "slide_type": "slide"
    }
   },
   "source": [
    "### Physical Space, Images, and the Pixel Grid"
   ]
  },
  {
   "cell_type": "markdown",
   "metadata": {
    "slideshow": {
     "slide_type": "subslide"
    }
   },
   "source": [
    "When performing image registration, where the object is to find the spatial transform that maps between the fixed image space and the moving image space, it is **extremely important** to have clear definitions of **physical space**, aka **world space**, and how images live in these spaces.\n",
    "\n",
    "Once we have *good definitions* and *follow them consistently*, operations such resampling, interpolation, multi-resolution processing, and spatial transform as are **clear** and **correct**, even on images that **anisotropic**, **oriented**, or with **multi-component tensor pixels**, such as gradient vectors or diffusion tensors."
   ]
  },
  {
   "cell_type": "markdown",
   "metadata": {
    "slideshow": {
     "slide_type": "subslide"
    }
   },
   "source": [
    "We **conceptualize** a **spatial image** as a **uniform grid of pixels** or **pixel grid** that livel is physical space.\n",
    "\n",
    "Let's continue [with this presentation](https://docs.google.com/presentation/d/1TGjGseDGa_IjrBWA5aMLzxKssy0Al5KT-_FmGlYF92Y/edit?usp=sharing)."
   ]
  },
  {
   "cell_type": "markdown",
   "metadata": {
    "slideshow": {
     "slide_type": "slide"
    }
   },
   "source": [
    "### Exercise: Lung image size\n",
    "\n",
    "There are two 3D CT lung images, sampled on different image grids:\n",
    "\n",
    "1. *imgs/CT_3D_lung_fixed.mha*\n",
    "2. *imgs/CT_3D_lung_fixed_small.mha*\n",
    "\n",
    "Which is larger in terms of its:\n",
    "\n",
    "* File size?\n",
    "* Spatial domain?\n",
    "* Resolution?\n",
    "\n",
    "How much less time will it take to register *CT_3D_lung_fixed_small.mha* to *CT_3D_lung_moving.mha*?"
   ]
  },
  {
   "cell_type": "code",
   "execution_count": 1,
   "metadata": {},
   "outputs": [
    {
     "name": "stdout",
     "output_type": "stream",
     "text": [
      "CT_3D_lung_fixed.mha\t    CT_3D_lung_moving.mha  phantom.tif\r\n",
      "CT_3D_lung_fixed_small.mha  phantom2.tif\r\n"
     ]
    }
   ],
   "source": [
    "!ls imgs"
   ]
  }
 ],
 "metadata": {
  "celltoolbar": "Slideshow",
  "kernelspec": {
   "display_name": "Python 3",
   "language": "python",
   "name": "python3"
  },
  "language_info": {
   "codemirror_mode": {
    "name": "ipython",
    "version": 3
   },
   "file_extension": ".py",
   "mimetype": "text/x-python",
   "name": "python",
   "nbconvert_exporter": "python",
   "pygments_lexer": "ipython3",
   "version": "3.6.8"
  }
 },
 "nbformat": 4,
 "nbformat_minor": 1
}
